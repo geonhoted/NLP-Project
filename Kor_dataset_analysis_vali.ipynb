{
 "cells": [
  {
   "cell_type": "code",
   "execution_count": 1,
   "metadata": {},
   "outputs": [
    {
     "name": "stdout",
     "output_type": "stream",
     "text": [
      "{'profile': {'persona-id': 'Pro_03802', 'persona': {'persona-id': 'A02_G01_C01', 'human': ['A02', 'G01'], 'computer': ['C01']}, 'emotion': {'emotion-id': 'S06_D02_E31', 'type': 'E31', 'situation': ['S06', 'D02']}}, 'talk': {'id': {'profile-id': 'Pro_03802', 'talk-id': 'Pro_03802_00007'}, 'content': {'HS01': '이번 프로젝트에서 발표를 하는데 내가 실수하는 바람에 우리 팀이 감점을 받았어. 너무 미안해.', 'SS01': '실수하시다니 정말 미안한 마음이 크겠어요.', 'HS02': '내 능력이 부족한 거 같은데 그만 다녀야 될거같아.', 'SS02': '능력을 올리려면 어떤 방법이 있을까요?', 'HS03': '퇴근 후 여가에 회사 일을 더 열심히 해서 피해가 가지 않도록 해야겠어.', 'SS03': '꼭 좋은 결과 있길 바라요.'}}}\n"
     ]
    }
   ],
   "source": [
    "import json\n",
    "\n",
    "# 파일 경로\n",
    "file_path = 'conv_senti_vali.json'\n",
    "\n",
    "# JSON 파일 읽기\n",
    "with open(file_path, 'r', encoding='utf-8') as file:\n",
    "    data = json.load(file)\n",
    "\n",
    "# 데이터 확인\n",
    "# print(data.keys())\n",
    "# print(data['sample_key'])  # 데이터의 키와 일부 값을 출력하여 \n",
    "print(data[0])\n"
   ]
  },
  {
   "cell_type": "markdown",
   "metadata": {},
   "source": [
    "# EDA"
   ]
  },
  {
   "cell_type": "markdown",
   "metadata": {},
   "source": [
    "1. JSON 데이터를 pandas DataFrame으로 변환.  \n",
    "2. 데이터의 기본 통계 정보 및 데이터 타입을 확인.  \n",
    "3. 결측치 확인.  \n",
    "4. 텍스트 길이 분석.  \n",
    "5. 유니크 값 확인.  \n",
    "6. 상황(situation) 및 감정(emotion) 데이터 분석.  \n",
    "7. 결과를 시각적으로 표현.  "
   ]
  },
  {
   "cell_type": "code",
   "execution_count": 2,
   "metadata": {},
   "outputs": [
    {
     "name": "stdout",
     "output_type": "stream",
     "text": [
      "  profile_id          talk_id   persona_id     human computer   emotion_id  \\\n",
      "0  Pro_03802  Pro_03802_00007  A02_G01_C01  A02, G01      C01  S06_D02_E31   \n",
      "1  Pro_03802  Pro_03802_00012  A02_G01_C01  A02, G01      C01  S06_D02_E31   \n",
      "2  Pro_03802  Pro_03802_00006  A02_G01_C01  A02, G01      C01  S06_D02_E31   \n",
      "3  Pro_03802  Pro_03802_00008  A02_G01_C01  A02, G01      C01  S06_D02_E31   \n",
      "4  Pro_03802  Pro_03802_00009  A02_G01_C01  A02, G01      C01  S06_D02_E31   \n",
      "\n",
      "  emotion_type situation                                               HS01  \\\n",
      "0          E31  S06, D02  이번 프로젝트에서 발표를 하는데 내가 실수하는 바람에 우리 팀이 감점을 받았어. 너...   \n",
      "1          E31  S06, D02              회사에서 중요한 프로젝트를 혼자 하게 됐는데 솔직히 두렵고 무서워.   \n",
      "2          E31  S06, D02                      상사가 너무 무섭게 생겨서 친해지는 게 너무 두려워.   \n",
      "3          E31  S06, D02          이번에 힘들게 들어간 첫 직장이거든. 첫 직장이라서 그런지 너무 긴장된다.   \n",
      "4          E31  S06, D02                       직장에서 동료들이랑 관계가 안 좋아질까 봐 걱정돼.   \n",
      "\n",
      "                           SS01                                  HS02  \\\n",
      "0       실수하시다니 정말 미안한 마음이 크겠어요.          내 능력이 부족한 거 같은데 그만 다녀야 될거같아.   \n",
      "1      큰 프로젝트를 혼자 하셔서 고민이 많겠네요.  나에게 너무 크게 느껴지는 중요한 프로젝트라 버거운 느낌이 들어.   \n",
      "2  직장 상사가 무섭게 생기셔서 친해지는 게 어렵군요.     무섭게 생겼는데도 업무를 보려면 친해져야 할 것 같단말이야.   \n",
      "3   첫 직장이라서 정말 떨리시고 긴장되실 것 같아요.           첫 직장이어서 잘 적응을 할 수 있을지 모르겠어.   \n",
      "4        직장 사람들 관계에 대해서 고민이시군요.           내가 낯가림이 심해서 친해질 수 있을지 모르겠어.   \n",
      "\n",
      "                           SS02                                      HS03  \\\n",
      "0         능력을 올리려면 어떤 방법이 있을까요?  퇴근 후 여가에 회사 일을 더 열심히 해서 피해가 가지 않도록 해야겠어.   \n",
      "1  프로젝트를 잘하시기 위해서 어떤 걸 할 수 있나요?               동료 직원에게 도움을 요청해서 같이 해결해야겠어.   \n",
      "2   상사분과 친해질 수 있는 방법은 무엇이 있을까요?                          먼저 다가가서 말을 걸어볼게.   \n",
      "3       잘 적응 하시려면 무엇을 할 수 있을까요?                   직장 동료와 상사들이랑 친하게 지내야겠어.   \n",
      "4    직장 사람들과 친해지려면 무슨 방법이 있을까요?  서로 같은 취미를 공유하고 얘기를 나누다 보면 친해질 수 있을 거 같아.   \n",
      "\n",
      "                        SS03  \n",
      "0            꼭 좋은 결과 있길 바라요.  \n",
      "1    동료 직원에게 도움을 요청하기로 하셨군요.  \n",
      "2         직장 상사와 친해지시면 좋겠네요.  \n",
      "3           직장에 잘 적응하시길 바라요.  \n",
      "4  직장 사람들과 좋은 관계를 가지시길 응원해요.  \n"
     ]
    }
   ],
   "source": [
    "import pandas as pd\n",
    "\n",
    "records = []\n",
    "\n",
    "# JSON 데이터를 pandas DataFrame으로 변환\n",
    "for record in data:\n",
    "    profile = record.get('profile', {})\n",
    "    persona = profile.get('persona', {})\n",
    "    emotion = profile.get('emotion', {})\n",
    "    talk = record.get('talk', {})\n",
    "    talk_id = talk.get('id', {})\n",
    "    content = talk.get('content', {})\n",
    "    \n",
    "    record_dict = {\n",
    "        'profile_id': profile.get('persona-id', ''),\n",
    "        'talk_id': talk_id.get('talk-id', ''),\n",
    "        'persona_id': persona.get('persona-id', ''),\n",
    "        'human': ', '.join(persona.get('human', [])),  # 리스트를 문자열로 변환\n",
    "        'computer': ', '.join(persona.get('computer', [])),  # 리스트를 문자열로 변환\n",
    "        'emotion_id': emotion.get('emotion-id', ''),\n",
    "        'emotion_type': emotion.get('type', ''),\n",
    "        'situation': ', '.join(emotion.get('situation', [])),  # 리스트를 문자열로 변환\n",
    "        'HS01': content.get('HS01', ''),\n",
    "        'SS01': content.get('SS01', ''),\n",
    "        'HS02': content.get('HS02', ''),\n",
    "        'SS02': content.get('SS02', ''),\n",
    "        'HS03': content.get('HS03', ''),\n",
    "        'SS03': content.get('SS03', '')\n",
    "    }\n",
    "    records.append(record_dict)\n",
    "\n",
    "df = pd.DataFrame(records)\n",
    "\n",
    "# 데이터 프레임 확인\n",
    "print(df.head())\n"
   ]
  },
  {
   "cell_type": "code",
   "execution_count": 3,
   "metadata": {},
   "outputs": [
    {
     "name": "stdout",
     "output_type": "stream",
     "text": [
      "       profile_id          talk_id   persona_id     human computer  \\\n",
      "count        6640             6640         6640      6640     6640   \n",
      "unique       1530             6640            8         8        1   \n",
      "top     Pro_03788  Pro_03802_00007  A04_G02_C01  A04, G02      C01   \n",
      "freq           25                1         1126      1126     6640   \n",
      "\n",
      "         emotion_id emotion_type situation  \\\n",
      "count          6640         6640      6640   \n",
      "unique          869           60        15   \n",
      "top     S04_D02_E29          E10  S04, D02   \n",
      "freq             39          183      1029   \n",
      "\n",
      "                                                     HS01         SS01  \\\n",
      "count                                                6640         6640   \n",
      "unique                                               6640         6558   \n",
      "top     이번 프로젝트에서 발표를 하는데 내가 실수하는 바람에 우리 팀이 감점을 받았어. 너...  무슨 일 있으셨어요?   \n",
      "freq                                                    1            4   \n",
      "\n",
      "                                          HS02                    SS02  HS03  \\\n",
      "count                                     6640                    6640  6640   \n",
      "unique                                    6583                    6548  4685   \n",
      "top     나는 잠이 너무 많아서 걱정인데 오랜만에 여유롭게 출근하니까 좋았어.  어떻게 하면 상황이 나아질 수 있을까요?         \n",
      "freq                                         2                       4  1955   \n",
      "\n",
      "        SS03  \n",
      "count   6640  \n",
      "unique  4686  \n",
      "top           \n",
      "freq    1955  \n"
     ]
    }
   ],
   "source": [
    "# 기본 통계 정보 확인\n",
    "print(df.describe(include='all'))"
   ]
  },
  {
   "cell_type": "code",
   "execution_count": 4,
   "metadata": {},
   "outputs": [
    {
     "name": "stdout",
     "output_type": "stream",
     "text": [
      "<class 'pandas.core.frame.DataFrame'>\n",
      "RangeIndex: 6640 entries, 0 to 6639\n",
      "Data columns (total 14 columns):\n",
      " #   Column        Non-Null Count  Dtype \n",
      "---  ------        --------------  ----- \n",
      " 0   profile_id    6640 non-null   object\n",
      " 1   talk_id       6640 non-null   object\n",
      " 2   persona_id    6640 non-null   object\n",
      " 3   human         6640 non-null   object\n",
      " 4   computer      6640 non-null   object\n",
      " 5   emotion_id    6640 non-null   object\n",
      " 6   emotion_type  6640 non-null   object\n",
      " 7   situation     6640 non-null   object\n",
      " 8   HS01          6640 non-null   object\n",
      " 9   SS01          6640 non-null   object\n",
      " 10  HS02          6640 non-null   object\n",
      " 11  SS02          6640 non-null   object\n",
      " 12  HS03          6640 non-null   object\n",
      " 13  SS03          6640 non-null   object\n",
      "dtypes: object(14)\n",
      "memory usage: 726.4+ KB\n",
      "None\n"
     ]
    }
   ],
   "source": [
    "# 데이터 타입 확인\n",
    "print(df.info())"
   ]
  },
  {
   "cell_type": "code",
   "execution_count": 5,
   "metadata": {},
   "outputs": [
    {
     "name": "stdout",
     "output_type": "stream",
     "text": [
      "profile_id      0\n",
      "talk_id         0\n",
      "persona_id      0\n",
      "human           0\n",
      "computer        0\n",
      "emotion_id      0\n",
      "emotion_type    0\n",
      "situation       0\n",
      "HS01            0\n",
      "SS01            0\n",
      "HS02            0\n",
      "SS02            0\n",
      "HS03            0\n",
      "SS03            0\n",
      "dtype: int64\n"
     ]
    }
   ],
   "source": [
    "# 결측치 확인\n",
    "print(df.isnull().sum())"
   ]
  },
  {
   "cell_type": "code",
   "execution_count": 6,
   "metadata": {},
   "outputs": [
    {
     "name": "stdout",
     "output_type": "stream",
     "text": [
      "       HS01_length  SS01_length  HS02_length  SS02_length  HS03_length  \\\n",
      "count  6640.000000  6640.000000  6640.000000  6640.000000   6640.00000   \n",
      "mean     36.257982    28.056928    34.988253    31.305120     23.34744   \n",
      "std      12.006457     9.580055    12.202533    11.147708     17.57611   \n",
      "min       5.000000     7.000000     6.000000     8.000000      0.00000   \n",
      "25%      28.000000    21.000000    26.000000    23.000000      0.00000   \n",
      "50%      37.000000    27.000000    34.000000    29.000000     27.00000   \n",
      "75%      44.000000    34.000000    43.000000    39.000000     36.00000   \n",
      "max     102.000000    73.000000   101.000000    94.000000    100.00000   \n",
      "\n",
      "       SS03_length  \n",
      "count  6640.000000  \n",
      "mean     20.215663  \n",
      "std      14.627993  \n",
      "min       0.000000  \n",
      "25%       0.000000  \n",
      "50%      24.000000  \n",
      "75%      30.000000  \n",
      "max      88.000000  \n"
     ]
    }
   ],
   "source": [
    "# 텍스트 길이 분석\n",
    "df['HS01_length'] = df['HS01'].apply(len)\n",
    "df['SS01_length'] = df['SS01'].apply(len)\n",
    "df['HS02_length'] = df['HS02'].apply(len)\n",
    "df['SS02_length'] = df['SS02'].apply(len)\n",
    "df['HS03_length'] = df['HS03'].apply(len)\n",
    "df['SS03_length'] = df['SS03'].apply(len)\n",
    "\n",
    "print(df[['HS01_length', 'SS01_length', 'HS02_length', 'SS02_length', 'HS03_length', 'SS03_length']].describe())"
   ]
  },
  {
   "cell_type": "code",
   "execution_count": 7,
   "metadata": {},
   "outputs": [
    {
     "name": "stdout",
     "output_type": "stream",
     "text": [
      "Unique values in HS01:\n",
      "HS01\n",
      "이번 프로젝트에서 발표를 하는데 내가 실수하는 바람에 우리 팀이 감점을 받았어. 너무 미안해.    1\n",
      "새 학년이 되어서 이 선생님 수업은 오늘 처음 들어보는데 잘 가르쳐주셔서 좋아.            1\n",
      "내가 학교 학생회장이 될 수 있을 거라곤 생각도 못 했는데 당선이 되어서 행복했어.          1\n",
      "부모님께서 내 기말고사 성적을 보시고 자랑스러워하셔서 무척 기뻐.                    1\n",
      "서술형 시험에 내 답안지가 모범 답안으로 올라서 뿌듯했어.                        1\n",
      "                                                       ..\n",
      "이사를 위해 재정 상태를 확인했는데 생각했던 것보다 많이 부족해서 실망했어.              1\n",
      "일을 하다 다쳐서 보험금이 나오나 기대했지만 보험금은 나오지 않았어.                  1\n",
      "일자리를 새로 구했는데 생각보다 급여가 많지 않아서 실망했어.                      1\n",
      "아내가 돈 관리를 제대로 못 해서 생활하는 데 어려움을 겪는 게 슬프네.                1\n",
      "친구들 모두 결혼하고 나만 혼자 남아서 쓸쓸하네.                             1\n",
      "Name: count, Length: 6640, dtype: int64\n",
      "\n",
      "Unique values in SS01:\n",
      "SS01\n",
      "무슨 일 있으셨어요?                     4\n",
      "좀 더 자세히 말씀해주시겠어요?               4\n",
      "무슨 일이 있으셨나요?                    3\n",
      "왜 그렇게 생각하셨나요?                   3\n",
      "왜 그렇게 생각하세요?                    3\n",
      "                               ..\n",
      "음식점이 마음에 들지 않으셨군요. 그럴 수 있어요.    1\n",
      "언니가 받으려는 항암치료가 미심쩍으신 거군요.       1\n",
      "자세하게 말씀해주시겠어요?                  1\n",
      "남편의 병이 호전되는지 의심쩍으시군요.           1\n",
      "혼자 남아 외로움을 느끼는 것 같군요.           1\n",
      "Name: count, Length: 6558, dtype: int64\n",
      "\n",
      "Unique values in HS02:\n",
      "HS02\n",
      "나는 잠이 너무 많아서 걱정인데 오랜만에 여유롭게 출근하니까 좋았어.          2\n",
      "알고 보니 전날 폭음을 했다는데 미리 말을 해 주든가 정말 화가 나.          2\n",
      "아들이 알면 걱정할까 봐 내 병을 아들에게 말 못하고 있어.               2\n",
      "좀 더 조심하고 메뉴를 선택할걸 후회가 드네.                       2\n",
      "아내가 상처를 받았을 거야.                                 2\n",
      "                                               ..\n",
      "계속 그러니까 화만 내고 소리만 치게 돼. 점점 지쳐가.                 1\n",
      "결혼하려면 정말 중요한 자리인데 남자친구의 행동을 보고 아빠가 별로라고 하셨어.    1\n",
      "평생에 한 번밖에 없는 신혼인데 예물부터 마음에 들지 않으니 화가 났어.        1\n",
      "난 별로 하고 싶지 않은데 자기만 생각하는 것 같아서 기분이 나빠.           1\n",
      "맞아. 하지만 그렇다고 아무나하고 결혼할 수도 없잖아.                  1\n",
      "Name: count, Length: 6583, dtype: int64\n",
      "\n",
      "Unique values in SS02:\n",
      "SS02\n",
      "어떻게 하면 상황이 나아질 수 있을까요?                                    4\n",
      "이 상황에서 할 수 있는 일은 무엇이 있을까요?                                3\n",
      "어떻게 하면 기분이 나아질까요?                                         3\n",
      "어떻게 하면 지금의 상황을 변화시킬 수 있을까요?                               3\n",
      "이 상황에서 할 수 있는 게 어떤 것이 있을까요?                               3\n",
      "                                                         ..\n",
      "어떻게 하면 이 상황이 나아질까요?                                       1\n",
      "어떻게 하면 기분이 나아지실까요?                                        1\n",
      "중요한 기념일인데 남편 때문에 화가 많이 나셨군요. 어떻게 하면 화가 풀리실까요?             1\n",
      "남자친구의 마음이 내 마음과 같지 않은 거 같아서 속상하셨군요.  지금 할 수 있는 일이 있나요?    1\n",
      "이럴 때 기분을 나아지게 해 줄 만한 방법이 있을까요?                            1\n",
      "Name: count, Length: 6548, dtype: int64\n",
      "\n",
      "Unique values in HS03:\n",
      "HS03\n",
      "                                                        1955\n",
      "담임 선생님께 상담 요청을 해봐야겠어.                                      2\n",
      "퇴근 후 여가에 회사 일을 더 열심히 해서 피해가 가지 않도록 해야겠어.                   1\n",
      "지금이라도 매일 근력운동을 하면 활력을 찾을 수 있을 것 같아.                        1\n",
      "잃은 건강이야 어쩔 수 없다고 쳐도 이제라도 끊으면 후회할 일은 없을 것 같아.               1\n",
      "                                                        ... \n",
      "친구와 대화로 상황을 해결할 거야. 부모님께는 다시 이런 일이 없도록 사과드려야 할 것 같아.       1\n",
      "더 이상 괴롭히지 않겠다고 다짐하고 친구에게 진심으로 대화하면서 사과할 거야.                1\n",
      "친구를 괴롭히지 않고 부모님께도 잘해드릴 거야.                                 1\n",
      "모두와 친하게 지낼 거야. 앞으로 모든 친구들에게 모두 잘해줄 거야.                     1\n",
      "인증샷만 찍고 거의 먹지 않더라고. 음식을 함부로 하는 모습에 실망했어.                   1\n",
      "Name: count, Length: 4685, dtype: int64\n",
      "\n",
      "Unique values in SS03:\n",
      "SS03\n",
      "                                              1955\n",
      "남편분과 잘 상의하셨으면 좋겠어요.                              1\n",
      "다른 병원에서의 상담을 통해 후회하는 감정이 사라지길 바랄게요.              1\n",
      "꾸준한 근력운동을 통해 활력을 되찾으시기를 바라요.                     1\n",
      "지금이라도 금연에 도전해서 후회하는 감정이 사라지기를 바랄게요.              1\n",
      "                                              ... \n",
      "친구와의 대화가 잘 풀렸으면 좋겠어요. 친구에게 진심이 전달되기를 바라요.        1\n",
      "친구들과 부모님 모두 원만한 관계가 되었으면 좋겠네요.                   1\n",
      "친구와의 문제가 잘 해결되길 바라요.                             1\n",
      "친구와의 상황이 잘 풀렸으면 좋겠어요.                            1\n",
      "다 먹지도 못할 음식을 사진 찍기용으로 가져다 와서 실망하셨군요.             1\n",
      "Name: count, Length: 4686, dtype: int64\n",
      "\n"
     ]
    }
   ],
   "source": [
    "# 텍스트 데이터의 유니크 값 확인\n",
    "for column in ['HS01', 'SS01', 'HS02', 'SS02', 'HS03', 'SS03']:\n",
    "    print(f'Unique values in {column}:')\n",
    "    print(df[column].value_counts())\n",
    "    print()"
   ]
  },
  {
   "cell_type": "code",
   "execution_count": 8,
   "metadata": {},
   "outputs": [
    {
     "name": "stdout",
     "output_type": "stream",
     "text": [
      "situation\n",
      "D02    5721\n",
      "S04    1363\n",
      "D01     919\n",
      "S11     761\n",
      "S06     568\n",
      "S13     557\n",
      "S03     551\n",
      "S02     496\n",
      "S07     452\n",
      "S10     433\n",
      "S01     390\n",
      "S09     380\n",
      "S05     376\n",
      "S08     313\n",
      "Name: count, dtype: int64\n"
     ]
    }
   ],
   "source": [
    "# 상황(situation) 데이터 분석\n",
    "situation_data = df['situation'].str.split(', ').explode()\n",
    "situation_counts = situation_data.value_counts()\n",
    "print(situation_counts)"
   ]
  },
  {
   "cell_type": "code",
   "execution_count": 9,
   "metadata": {},
   "outputs": [
    {
     "name": "stdout",
     "output_type": "stream",
     "text": [
      "emotion_type\n",
      "E10    183\n",
      "E63    181\n",
      "E62    156\n",
      "E21    152\n",
      "E32    148\n",
      "E43    141\n",
      "E31    135\n",
      "E50    134\n",
      "E35    134\n",
      "E12    133\n",
      "E15    133\n",
      "E30    132\n",
      "E59    132\n",
      "E44    131\n",
      "E17    130\n",
      "E61    130\n",
      "E16    129\n",
      "E11    127\n",
      "E53    127\n",
      "E55    127\n",
      "E58    126\n",
      "E13    125\n",
      "E67    124\n",
      "E64    124\n",
      "E18    124\n",
      "E27    121\n",
      "E69    117\n",
      "E29    115\n",
      "E68    114\n",
      "E56    113\n",
      "E24    107\n",
      "E37    107\n",
      "E23    107\n",
      "E41    106\n",
      "E52    104\n",
      "E38    103\n",
      "E39    103\n",
      "E60    103\n",
      "E66    102\n",
      "E46    102\n",
      "E47     98\n",
      "E48     96\n",
      "E28     96\n",
      "E49     92\n",
      "E40     91\n",
      "E14     91\n",
      "E36     88\n",
      "E20     86\n",
      "E34     85\n",
      "E26     84\n",
      "E25     83\n",
      "E42     83\n",
      "E19     82\n",
      "E33     77\n",
      "E57     73\n",
      "E45     67\n",
      "E51     64\n",
      "E65     62\n",
      "E22     52\n",
      "E54     48\n",
      "Name: count, dtype: int64\n"
     ]
    }
   ],
   "source": [
    "# 감정(emotion) 데이터 분석\n",
    "emotion_counts = df['emotion_type'].value_counts()\n",
    "print(emotion_counts)"
   ]
  },
  {
   "cell_type": "code",
   "execution_count": 10,
   "metadata": {},
   "outputs": [
    {
     "data": {
      "image/png": "[encoded data removed]",
      "text/plain": [
       "<Figure size 1000x600 with 1 Axes>"
      ]
     },
     "metadata": {},
     "output_type": "display_data"
    },
    {
     "data": {
      "image/png": "[encoded data removed]",
      "text/plain": [
       "<Figure size 1000x600 with 1 Axes>"
      ]
     },
     "metadata": {},
     "output_type": "display_data"
    },
    {
     "data": {
      "text/plain": [
       "<Figure size 1000x600 with 0 Axes>"
      ]
     },
     "metadata": {},
     "output_type": "display_data"
    },
    {
     "data": {
      "image/png": "[encoded data removed]",
      "text/plain": [
       "<Figure size 640x480 with 1 Axes>"
      ]
     },
     "metadata": {},
     "output_type": "display_data"
    }
   ],
   "source": [
    "# 결과를 시각적으로 표현\n",
    "import matplotlib.pyplot as plt\n",
    "\n",
    "# 상황(situation) 데이터 시각화\n",
    "plt.figure(figsize=(10, 6))\n",
    "situation_counts.plot(kind='bar')\n",
    "plt.title('Distribution of Situations')\n",
    "plt.xlabel('Situation')\n",
    "plt.ylabel('Count')\n",
    "plt.show()\n",
    "\n",
    "# 감정(emotion) 데이터 시각화\n",
    "plt.figure(figsize=(10, 6))\n",
    "emotion_counts.plot(kind='bar')\n",
    "plt.title('Distribution of Emotions')\n",
    "plt.xlabel('Emotion Type')\n",
    "plt.ylabel('Count')\n",
    "plt.show()\n",
    "\n",
    "# 텍스트 길이 시각화\n",
    "plt.figure(figsize=(10, 6))\n",
    "df[['HS01_length', 'SS01_length', 'HS02_length', 'SS02_length', 'HS03_length', 'SS03_length']].plot(kind='box')\n",
    "plt.title('Distribution of Text Lengths')\n",
    "plt.ylabel('Length')\n",
    "plt.show()"
   ]
  },
  {
   "cell_type": "markdown",
   "metadata": {},
   "source": [
    "# 발화랑 emtion id만 전처리"
   ]
  },
  {
   "cell_type": "code",
   "execution_count": 11,
   "metadata": {},
   "outputs": [
    {
     "data": {
      "text/html": [
       "<div>\n",
       "<style scoped>\n",
       "    .dataframe tbody tr th:only-of-type {\n",
       "        vertical-align: middle;\n",
       "    }\n",
       "\n",
       "    .dataframe tbody tr th {\n",
       "        vertical-align: top;\n",
       "    }\n",
       "\n",
       "    .dataframe thead th {\n",
       "        text-align: right;\n",
       "    }\n",
       "</style>\n",
       "<table border=\"1\" class=\"dataframe\">\n",
       "  <thead>\n",
       "    <tr style=\"text-align: right;\">\n",
       "      <th></th>\n",
       "      <th>emotion_type</th>\n",
       "      <th>HS01</th>\n",
       "      <th>HS02</th>\n",
       "      <th>HS03</th>\n",
       "    </tr>\n",
       "  </thead>\n",
       "  <tbody>\n",
       "    <tr>\n",
       "      <th>0</th>\n",
       "      <td>E31</td>\n",
       "      <td>이번 프로젝트에서 발표를 하는데 내가 실수하는 바람에 우리 팀이 감점을 받았어. 너...</td>\n",
       "      <td>내 능력이 부족한 거 같은데 그만 다녀야 될거같아.</td>\n",
       "      <td>퇴근 후 여가에 회사 일을 더 열심히 해서 피해가 가지 않도록 해야겠어.</td>\n",
       "    </tr>\n",
       "    <tr>\n",
       "      <th>1</th>\n",
       "      <td>E31</td>\n",
       "      <td>회사에서 중요한 프로젝트를 혼자 하게 됐는데 솔직히 두렵고 무서워.</td>\n",
       "      <td>나에게 너무 크게 느껴지는 중요한 프로젝트라 버거운 느낌이 들어.</td>\n",
       "      <td>동료 직원에게 도움을 요청해서 같이 해결해야겠어.</td>\n",
       "    </tr>\n",
       "    <tr>\n",
       "      <th>2</th>\n",
       "      <td>E31</td>\n",
       "      <td>상사가 너무 무섭게 생겨서 친해지는 게 너무 두려워.</td>\n",
       "      <td>무섭게 생겼는데도 업무를 보려면 친해져야 할 것 같단말이야.</td>\n",
       "      <td>먼저 다가가서 말을 걸어볼게.</td>\n",
       "    </tr>\n",
       "    <tr>\n",
       "      <th>3</th>\n",
       "      <td>E31</td>\n",
       "      <td>이번에 힘들게 들어간 첫 직장이거든. 첫 직장이라서 그런지 너무 긴장된다.</td>\n",
       "      <td>첫 직장이어서 잘 적응을 할 수 있을지 모르겠어.</td>\n",
       "      <td>직장 동료와 상사들이랑 친하게 지내야겠어.</td>\n",
       "    </tr>\n",
       "    <tr>\n",
       "      <th>4</th>\n",
       "      <td>E31</td>\n",
       "      <td>직장에서 동료들이랑 관계가 안 좋아질까 봐 걱정돼.</td>\n",
       "      <td>내가 낯가림이 심해서 친해질 수 있을지 모르겠어.</td>\n",
       "      <td>서로 같은 취미를 공유하고 얘기를 나누다 보면 친해질 수 있을 거 같아.</td>\n",
       "    </tr>\n",
       "  </tbody>\n",
       "</table>\n",
       "</div>"
      ],
      "text/plain": [
       "  emotion_type                                               HS01  \\\n",
       "0          E31  이번 프로젝트에서 발표를 하는데 내가 실수하는 바람에 우리 팀이 감점을 받았어. 너...   \n",
       "1          E31              회사에서 중요한 프로젝트를 혼자 하게 됐는데 솔직히 두렵고 무서워.   \n",
       "2          E31                      상사가 너무 무섭게 생겨서 친해지는 게 너무 두려워.   \n",
       "3          E31          이번에 힘들게 들어간 첫 직장이거든. 첫 직장이라서 그런지 너무 긴장된다.   \n",
       "4          E31                       직장에서 동료들이랑 관계가 안 좋아질까 봐 걱정돼.   \n",
       "\n",
       "                                   HS02  \\\n",
       "0          내 능력이 부족한 거 같은데 그만 다녀야 될거같아.   \n",
       "1  나에게 너무 크게 느껴지는 중요한 프로젝트라 버거운 느낌이 들어.   \n",
       "2     무섭게 생겼는데도 업무를 보려면 친해져야 할 것 같단말이야.   \n",
       "3           첫 직장이어서 잘 적응을 할 수 있을지 모르겠어.   \n",
       "4           내가 낯가림이 심해서 친해질 수 있을지 모르겠어.   \n",
       "\n",
       "                                       HS03  \n",
       "0  퇴근 후 여가에 회사 일을 더 열심히 해서 피해가 가지 않도록 해야겠어.  \n",
       "1               동료 직원에게 도움을 요청해서 같이 해결해야겠어.  \n",
       "2                          먼저 다가가서 말을 걸어볼게.  \n",
       "3                   직장 동료와 상사들이랑 친하게 지내야겠어.  \n",
       "4  서로 같은 취미를 공유하고 얘기를 나누다 보면 친해질 수 있을 거 같아.  "
      ]
     },
     "execution_count": 11,
     "metadata": {},
     "output_type": "execute_result"
    }
   ],
   "source": [
    "import pandas as pd\n",
    "import json\n",
    "\n",
    "# Load the JSON file\n",
    "file_path = 'conv_senti_vali.json'\n",
    "with open(file_path, 'r', encoding='utf-8') as file:\n",
    "    data = json.load(file)\n",
    "\n",
    "# Extract relevant information\n",
    "rows = []\n",
    "for entry in data:\n",
    "    profile = entry['profile']\n",
    "    talk_content = entry['talk']['content']\n",
    "    emotion = profile['emotion']\n",
    "    \n",
    "    row = {\n",
    "        'emotion_type': emotion['type'],\n",
    "        'HS01': talk_content.get('HS01', ''),\n",
    "        'HS02': talk_content.get('HS02', ''),\n",
    "        'HS03': talk_content.get('HS03', '')\n",
    "    }\n",
    "    rows.append(row)\n",
    "\n",
    "# Create DataFrame\n",
    "df = pd.DataFrame(rows)\n",
    "df.head()\n"
   ]
  },
  {
   "cell_type": "markdown",
   "metadata": {},
   "source": [
    "### df를 csv로 저장"
   ]
  },
  {
   "cell_type": "code",
   "execution_count": 12,
   "metadata": {},
   "outputs": [],
   "source": [
    "csv_file_path = \"conv_senti_vali_emotion_hs.csv\"\n",
    "df.to_csv(csv_file_path, index=False)"
   ]
  },
  {
   "cell_type": "markdown",
   "metadata": {},
   "source": [
    "### id2label 가이드 보고 dictionary화"
   ]
  },
  {
   "cell_type": "code",
   "execution_count": 13,
   "metadata": {},
   "outputs": [],
   "source": [
    "id2label_cleaned = {\n",
    "    10: \"분노\",\n",
    "    11: \"툴툴대는\",\n",
    "    12: \"좌절한\",\n",
    "    13: \"짜증내는\",\n",
    "    14: \"방어적인\",\n",
    "    15: \"악의적인\",\n",
    "    16: \"안달하는\",\n",
    "    17: \"구역질 나는\",\n",
    "    18: \"노여워하는\",\n",
    "    19: \"성가신\",\n",
    "    20: \"슬픔\",\n",
    "    21: \"실망한\",\n",
    "    22: \"비통한\",\n",
    "    23: \"후회되는\",\n",
    "    24: \"우울한\",\n",
    "    25: \"마비된\",\n",
    "    26: \"염세적인\",\n",
    "    27: \"눈물이 나는\",\n",
    "    28: \"낙담한\",\n",
    "    29: \"환멸을 느끼는\",\n",
    "    30: \"불안\",\n",
    "    31: \"두려운\",\n",
    "    32: \"스트레스 받는\",\n",
    "    33: \"취약한\",\n",
    "    34: \"혼란스러운\",\n",
    "    35: \"당혹스러운\",\n",
    "    36: \"회의적인\",\n",
    "    37: \"걱정스러운\",\n",
    "    38: \"조심스러운\",\n",
    "    39: \"초조한\",\n",
    "    40: \"상처\",\n",
    "    41: \"질투하는\",\n",
    "    42: \"배신당한\",\n",
    "    43: \"고립된\",\n",
    "    44: \"충격 받은\",\n",
    "    45: \"가난한, 불우한\",\n",
    "    46: \"희생된\",\n",
    "    47: \"억울한\",\n",
    "    48: \"괴로워하는\",\n",
    "    49: \"버려진\",\n",
    "    50: \"당황\",\n",
    "    51: \"고립된(당황한)\",\n",
    "    52: \"남의 시선을 의식하는\",\n",
    "    53: \"외로운\",\n",
    "    54: \"열등감\",\n",
    "    55: \"죄책감\",\n",
    "    56: \"부끄러운\",\n",
    "    57: \"혐오스러운\",\n",
    "    58: \"한심한\",\n",
    "    59: \"혼란스러운(당황한)\",\n",
    "    60: \"기쁨\",\n",
    "    61: \"감사하는\",\n",
    "    62: \"신뢰하는\",\n",
    "    63: \"편안한\",\n",
    "    64: \"만족스러운\",\n",
    "    65: \"흥분\",\n",
    "    66: \"느긋\",\n",
    "    67: \"안도\",\n",
    "    68: \"신이 난\",\n",
    "    69: \"자신하는\"\n",
    "}"
   ]
  },
  {
   "cell_type": "markdown",
   "metadata": {},
   "source": [
    "# Emotion count EDA"
   ]
  },
  {
   "cell_type": "code",
   "execution_count": 14,
   "metadata": {},
   "outputs": [
    {
     "data": {
      "image/png": "[encoded data removed]",
      "text/plain": [
       "<Figure size 1800x800 with 1 Axes>"
      ]
     },
     "metadata": {},
     "output_type": "display_data"
    }
   ],
   "source": [
    "import pandas as pd\n",
    "import seaborn as sns\n",
    "import matplotlib.pyplot as plt\n",
    "\n",
    "# 파일 경로 설정\n",
    "file_path = 'conv_senti_vali_emotion_hs.csv'\n",
    "\n",
    "# 파일을 읽어 DataFrame으로 변환\n",
    "data = pd.read_csv(file_path)\n",
    "\n",
    "# 각 감정 레이블의 빈도 계산\n",
    "emotion_counts = data['emotion_type'].value_counts()\n",
    "\n",
    "# Seaborn 스타일 설정\n",
    "sns.set(style=\"whitegrid\")\n",
    "\n",
    "# 감정 레이블별 데이터 빈도를 바 차트로 표시\n",
    "plt.figure(figsize=(18, 8))\n",
    "ax = sns.countplot(x='emotion_type', data=data, order=emotion_counts.index)\n",
    "ax.set_title('Count of Each Emotion Label')\n",
    "ax.set_xlabel('Emotion Label')\n",
    "ax.set_ylabel('Count')\n",
    "plt.xticks(rotation=90)  # X축 레이블 회전\n",
    "plt.tight_layout()  # 레이아웃 조정\n",
    "\n",
    "plt.show()\n"
   ]
  },
  {
   "cell_type": "markdown",
   "metadata": {},
   "source": [
    "# HS01, HS02, HS03 HS열로해서 데이터 나누기"
   ]
  },
  {
   "cell_type": "code",
   "execution_count": 1,
   "metadata": {},
   "outputs": [
    {
     "name": "stdout",
     "output_type": "stream",
     "text": [
      "  emotion_type                                                 hs\n",
      "0          E31  이번 프로젝트에서 발표를 하는데 내가 실수하는 바람에 우리 팀이 감점을 받았어. 너...\n",
      "1          E31              회사에서 중요한 프로젝트를 혼자 하게 됐는데 솔직히 두렵고 무서워.\n",
      "2          E31                      상사가 너무 무섭게 생겨서 친해지는 게 너무 두려워.\n",
      "3          E31          이번에 힘들게 들어간 첫 직장이거든. 첫 직장이라서 그런지 너무 긴장된다.\n",
      "4          E31                       직장에서 동료들이랑 관계가 안 좋아질까 봐 걱정돼.\n"
     ]
    }
   ],
   "source": [
    "import pandas as pd\n",
    "\n",
    "# 파일 경로 설정\n",
    "file_path = 'conv_senti_vali_emotion_hs.csv'\n",
    "\n",
    "# 파일을 읽어 DataFrame으로 변환\n",
    "data = pd.read_csv(file_path)\n",
    "\n",
    "# 'HS01', 'HS02', 'HS03' 열을 개별 행으로 전환하고, 'emotion_type' 열은 유지\n",
    "long_format = pd.melt(data, id_vars=['emotion_type'], value_vars=['HS01', 'HS02', 'HS03'], var_name='HS_label', value_name='hs')\n",
    "\n",
    "# 필요 없는 'HS_label' 열을 삭제하고, 결과 DataFrame 재구성\n",
    "long_format = long_format.drop('HS_label', axis=1)\n",
    "\n",
    "# 결과 확인\n",
    "print(long_format.head())\n"
   ]
  },
  {
   "cell_type": "markdown",
   "metadata": {},
   "source": [
    "# 결측치 확인"
   ]
  },
  {
   "cell_type": "code",
   "execution_count": 2,
   "metadata": {},
   "outputs": [
    {
     "name": "stdout",
     "output_type": "stream",
     "text": [
      "emotion_type\n",
      "E10    549\n",
      "E63    543\n",
      "E62    468\n",
      "E21    456\n",
      "E32    444\n",
      "E43    423\n",
      "E31    405\n",
      "E50    402\n",
      "E35    402\n",
      "E12    399\n",
      "E15    399\n",
      "E30    396\n",
      "E59    396\n",
      "E44    393\n",
      "E17    390\n",
      "E61    390\n",
      "E16    387\n",
      "E11    381\n",
      "E53    381\n",
      "E55    381\n",
      "E58    378\n",
      "E13    375\n",
      "E67    372\n",
      "E64    372\n",
      "E18    372\n",
      "E27    363\n",
      "E69    351\n",
      "E29    345\n",
      "E68    342\n",
      "E56    339\n",
      "E24    321\n",
      "E37    321\n",
      "E23    321\n",
      "E41    318\n",
      "E52    312\n",
      "E38    309\n",
      "E39    309\n",
      "E60    309\n",
      "E66    306\n",
      "E46    306\n",
      "E47    294\n",
      "E48    288\n",
      "E28    288\n",
      "E49    276\n",
      "E40    273\n",
      "E14    273\n",
      "E36    264\n",
      "E20    258\n",
      "E34    255\n",
      "E26    252\n",
      "E25    249\n",
      "E42    249\n",
      "E19    246\n",
      "E33    231\n",
      "E57    219\n",
      "E45    201\n",
      "E51    192\n",
      "E65    186\n",
      "E22    156\n",
      "E54    144\n",
      "Name: count, dtype: int64 \n",
      " 1955\n"
     ]
    }
   ],
   "source": [
    "# Count the frequency of each emotion type to analyze the distribution\n",
    "emotion_type_distribution = long_format['emotion_type'].value_counts()\n",
    "\n",
    "# Checking for missing values in 'HS' column\n",
    "missing_hs = long_format['hs'].isnull().sum()\n",
    "\n",
    "print(emotion_type_distribution, \"\\n\", missing_hs)\n"
   ]
  },
  {
   "cell_type": "code",
   "execution_count": 3,
   "metadata": {},
   "outputs": [
    {
     "name": "stdout",
     "output_type": "stream",
     "text": [
      "0\n"
     ]
    }
   ],
   "source": [
    "long_format = long_format.dropna(subset=['hs'])\n",
    "\n",
    "# 결과 확인\n",
    "print(long_format[\"hs\"].isnull().sum())"
   ]
  },
  {
   "cell_type": "markdown",
   "metadata": {},
   "source": [
    "## E제거 -> 모델 학습시 id에 str 안됨"
   ]
  },
  {
   "cell_type": "code",
   "execution_count": 4,
   "metadata": {},
   "outputs": [
    {
     "data": {
      "text/html": [
       "<div>\n",
       "<style scoped>\n",
       "    .dataframe tbody tr th:only-of-type {\n",
       "        vertical-align: middle;\n",
       "    }\n",
       "\n",
       "    .dataframe tbody tr th {\n",
       "        vertical-align: top;\n",
       "    }\n",
       "\n",
       "    .dataframe thead th {\n",
       "        text-align: right;\n",
       "    }\n",
       "</style>\n",
       "<table border=\"1\" class=\"dataframe\">\n",
       "  <thead>\n",
       "    <tr style=\"text-align: right;\">\n",
       "      <th></th>\n",
       "      <th>hs</th>\n",
       "      <th>labels</th>\n",
       "    </tr>\n",
       "  </thead>\n",
       "  <tbody>\n",
       "    <tr>\n",
       "      <th>0</th>\n",
       "      <td>이번 프로젝트에서 발표를 하는데 내가 실수하는 바람에 우리 팀이 감점을 받았어. 너...</td>\n",
       "      <td>21</td>\n",
       "    </tr>\n",
       "    <tr>\n",
       "      <th>1</th>\n",
       "      <td>회사에서 중요한 프로젝트를 혼자 하게 됐는데 솔직히 두렵고 무서워.</td>\n",
       "      <td>21</td>\n",
       "    </tr>\n",
       "    <tr>\n",
       "      <th>2</th>\n",
       "      <td>상사가 너무 무섭게 생겨서 친해지는 게 너무 두려워.</td>\n",
       "      <td>21</td>\n",
       "    </tr>\n",
       "    <tr>\n",
       "      <th>3</th>\n",
       "      <td>이번에 힘들게 들어간 첫 직장이거든. 첫 직장이라서 그런지 너무 긴장된다.</td>\n",
       "      <td>21</td>\n",
       "    </tr>\n",
       "    <tr>\n",
       "      <th>4</th>\n",
       "      <td>직장에서 동료들이랑 관계가 안 좋아질까 봐 걱정돼.</td>\n",
       "      <td>21</td>\n",
       "    </tr>\n",
       "  </tbody>\n",
       "</table>\n",
       "</div>"
      ],
      "text/plain": [
       "                                                  hs  labels\n",
       "0  이번 프로젝트에서 발표를 하는데 내가 실수하는 바람에 우리 팀이 감점을 받았어. 너...      21\n",
       "1              회사에서 중요한 프로젝트를 혼자 하게 됐는데 솔직히 두렵고 무서워.      21\n",
       "2                      상사가 너무 무섭게 생겨서 친해지는 게 너무 두려워.      21\n",
       "3          이번에 힘들게 들어간 첫 직장이거든. 첫 직장이라서 그런지 너무 긴장된다.      21\n",
       "4                       직장에서 동료들이랑 관계가 안 좋아질까 봐 걱정돼.      21"
      ]
     },
     "execution_count": 4,
     "metadata": {},
     "output_type": "execute_result"
    }
   ],
   "source": [
    "# Remove 'E' and convert the emotion_type IDs to integers\n",
    "long_format['emotion_type'] = long_format['emotion_type'].apply(lambda x: int(x[1:]))\n",
    "# 'emotion_type'의 ID 값을 10씩 빼서 새로운 범위로 조정\n",
    "long_format['emotion_type'] = long_format['emotion_type'].apply(lambda x: x - 10)\n",
    "long_format['labels'] = long_format['emotion_type']\n",
    "long_format = long_format.drop(columns=['emotion_type'])\n",
    "long_format.head()\n"
   ]
  },
  {
   "cell_type": "code",
   "execution_count": 5,
   "metadata": {},
   "outputs": [],
   "source": [
    "csv_file_path = \"valid_dataset.csv\"\n",
    "long_format.to_csv(csv_file_path, index=False)"
   ]
  },
  {
   "cell_type": "code",
   "execution_count": null,
   "metadata": {},
   "outputs": [],
   "source": []
  },
  {
   "cell_type": "code",
   "execution_count": null,
   "metadata": {},
   "outputs": [],
   "source": []
  },
  {
   "cell_type": "code",
   "execution_count": null,
   "metadata": {},
   "outputs": [],
   "source": []
  }
 ],
 "metadata": {
  "kernelspec": {
   "display_name": "NLP_HW2",
   "language": "python",
   "name": "nlp_hw2"
  },
  "language_info": {
   "codemirror_mode": {
    "name": "ipython",
    "version": 3
   },
   "file_extension": ".py",
   "mimetype": "text/x-python",
   "name": "python",
   "nbconvert_exporter": "python",
   "pygments_lexer": "ipython3",
   "version": "3.10.11"
  }
 },
 "nbformat": 4,
 "nbformat_minor": 2
}
