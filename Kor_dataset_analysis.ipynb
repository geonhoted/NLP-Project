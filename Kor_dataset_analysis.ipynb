{
 "cells": [
  {
   "cell_type": "code",
   "execution_count": 1,
   "metadata": {},
   "outputs": [
    {
     "name": "stdout",
     "output_type": "stream",
     "text": [
      "{'profile': {'persona-id': 'Pro_05349', 'persona': {'persona-id': 'A02_G02_C01', 'human': ['A02', 'G02'], 'computer': ['C01']}, 'emotion': {'emotion-id': 'S06_D02_E18', 'type': 'E18', 'situation': ['S06', 'D02']}}, 'talk': {'id': {'profile-id': 'Pro_05349', 'talk-id': 'Pro_05349_00053'}, 'content': {'HS01': '일은 왜 해도 해도 끝이 없을까? 화가 난다.', 'SS01': '많이 힘드시겠어요. 주위에 의논할 상대가 있나요?', 'HS02': '그냥 내가 해결하는 게 나아. 남들한테 부담 주고 싶지도 않고.', 'SS02': '혼자 해결하기로 했군요. 혼자서 해결하기 힘들면 주위에 의논할 사람을 찾아보세요. ', 'HS03': '', 'SS03': ''}}}\n"
     ]
    }
   ],
   "source": [
    "import json\n",
    "\n",
    "# 파일 경로\n",
    "file_path = 'conv_senti.json'\n",
    "\n",
    "# JSON 파일 읽기\n",
    "with open(file_path, 'r', encoding='utf-8') as file:\n",
    "    data = json.load(file)\n",
    "\n",
    "# 데이터 확인\n",
    "# print(data.keys())\n",
    "# print(data['sample_key'])  # 데이터의 키와 일부 값을 출력하여 \n",
    "print(data[0])\n"
   ]
  },
  {
   "cell_type": "markdown",
   "metadata": {},
   "source": [
    "# EDA"
   ]
  },
  {
   "cell_type": "markdown",
   "metadata": {},
   "source": [
    "1. JSON 데이터를 pandas DataFrame으로 변환.  \n",
    "2. 데이터의 기본 통계 정보 및 데이터 타입을 확인.  \n",
    "3. 결측치 확인.  \n",
    "4. 텍스트 길이 분석.  \n",
    "5. 유니크 값 확인.  \n",
    "6. 상황(situation) 및 감정(emotion) 데이터 분석.  \n",
    "7. 결과를 시각적으로 표현.  "
   ]
  },
  {
   "cell_type": "code",
   "execution_count": 2,
   "metadata": {},
   "outputs": [
    {
     "name": "stdout",
     "output_type": "stream",
     "text": [
      "  profile_id          talk_id   persona_id     human computer   emotion_id  \\\n",
      "0  Pro_05349  Pro_05349_00053  A02_G02_C01  A02, G02      C01  S06_D02_E18   \n",
      "1  Pro_05349  Pro_05349_00049  A02_G02_C01  A02, G02      C01  S06_D02_E18   \n",
      "2  Pro_05349  Pro_05349_00077  A02_G02_C01  A02, G02      C01  S06_D02_E18   \n",
      "3  Pro_05349  Pro_05349_00064  A02_G02_C01  A02, G02      C01  S06_D02_E18   \n",
      "4  Pro_05349  Pro_05349_00039  A02_G02_C01  A02, G02      C01  S06_D02_E18   \n",
      "\n",
      "  emotion_type situation                                               HS01  \\\n",
      "0          E18  S06, D02                          일은 왜 해도 해도 끝이 없을까? 화가 난다.   \n",
      "1          E18  S06, D02     이번 달에 또 급여가 깎였어! 물가는 오르는데 월급만 자꾸 깎이니까 너무 화가 나.   \n",
      "2          E18  S06, D02  회사에 신입이 들어왔는데 말투가 거슬려. 그런 애를 매일 봐야 한다고 생각하니까 스...   \n",
      "3          E18  S06, D02  직장에서 막내라는 이유로 나에게만 온갖 심부름을 시켜. 일도 많은 데 정말 분하고 ...   \n",
      "4          E18  S06, D02              얼마 전 입사한 신입사원이 나를 무시하는 것 같아서 너무 화가 나.   \n",
      "\n",
      "                                                SS01  \\\n",
      "0                        많이 힘드시겠어요. 주위에 의논할 상대가 있나요?   \n",
      "1           급여가 줄어 속상하시겠어요. 월급이 줄어든 것을 어떻게 보완하실 건가요?   \n",
      "2  회사 동료 때문에 스트레스를 많이 받는 것 같아요. 문제 해결을 위해 어떤 노력을 ...   \n",
      "3  관련 없는 심부름을 모두 하게 되어서 노여우시군요. 어떤 것이 상황을 나아질 수 있...   \n",
      "4  무시하는 것 같은 태도에 화가 나셨군요. 상대방의 어떤 행동이 그런 감정을 유발하는...   \n",
      "\n",
      "                                                HS02  \\\n",
      "0                그냥 내가 해결하는 게 나아. 남들한테 부담 주고 싶지도 않고.   \n",
      "1   최대한 지출을 억제해야겠어. 월급이 줄어들었으니 고정지출을 줄일 수밖에 없을 것 같아.   \n",
      "2  잘 안 맞는 사람이랑 억지로 잘 지내는 것보단 조금은 거리를 두고 예의를 갖춰서 대...   \n",
      "3              직장 사람들과 솔직하게 이야기해보고 싶어. 일하는 데에 방해된다고.   \n",
      "4                상사인 나에게 먼저 인사하지 않아서 매일 내가 먼저 인사한다고!   \n",
      "\n",
      "                                                SS02 HS03 SS03  \n",
      "0     혼자 해결하기로 했군요. 혼자서 해결하기 힘들면 주위에 의논할 사람을 찾아보세요.             \n",
      "1                           월급이 줄어든 만큼 소비를 줄일 계획이군요.            \n",
      "2          스트레스받지 않기 위해선 인간관계에 있어 약간의 거리를 두는 게 좋겠군요.            \n",
      "3                        직장 사람들과 이야기를 해 보겠다고 결심하셨군요.            \n",
      "4  항상 먼저 인사하게 되어 화가 나셨군요. 어떻게 하면 신입사원에게 화났음을 표현할 ...            \n"
     ]
    }
   ],
   "source": [
    "import pandas as pd\n",
    "\n",
    "records = []\n",
    "\n",
    "# JSON 데이터를 pandas DataFrame으로 변환\n",
    "for record in data:\n",
    "    profile = record.get('profile', {})\n",
    "    persona = profile.get('persona', {})\n",
    "    emotion = profile.get('emotion', {})\n",
    "    talk = record.get('talk', {})\n",
    "    talk_id = talk.get('id', {})\n",
    "    content = talk.get('content', {})\n",
    "    \n",
    "    record_dict = {\n",
    "        'profile_id': profile.get('persona-id', ''),\n",
    "        'talk_id': talk_id.get('talk-id', ''),\n",
    "        'persona_id': persona.get('persona-id', ''),\n",
    "        'human': ', '.join(persona.get('human', [])),  # 리스트를 문자열로 변환\n",
    "        'computer': ', '.join(persona.get('computer', [])),  # 리스트를 문자열로 변환\n",
    "        'emotion_id': emotion.get('emotion-id', ''),\n",
    "        'emotion_type': emotion.get('type', ''),\n",
    "        'situation': ', '.join(emotion.get('situation', [])),  # 리스트를 문자열로 변환\n",
    "        'HS01': content.get('HS01', ''),\n",
    "        'SS01': content.get('SS01', ''),\n",
    "        'HS02': content.get('HS02', ''),\n",
    "        'SS02': content.get('SS02', ''),\n",
    "        'HS03': content.get('HS03', ''),\n",
    "        'SS03': content.get('SS03', '')\n",
    "    }\n",
    "    records.append(record_dict)\n",
    "\n",
    "df = pd.DataFrame(records)\n",
    "\n",
    "# 데이터 프레임 확인\n",
    "print(df.head())\n"
   ]
  },
  {
   "cell_type": "code",
   "execution_count": 3,
   "metadata": {},
   "outputs": [
    {
     "name": "stdout",
     "output_type": "stream",
     "text": [
      "       profile_id          talk_id   persona_id     human computer  \\\n",
      "count       51628            51628        51628     51628    51628   \n",
      "unique       1919            51625            8         8        1   \n",
      "top     Pro_05368  Pro_12151_00004  A02_G02_C01  A02, G02      C01   \n",
      "freq           97                2         8746      8746    51628   \n",
      "\n",
      "         emotion_id emotion_type situation        HS01                SS01  \\\n",
      "count         51628        51628     51628       51628               51628   \n",
      "unique          900           60        15       51600               50352   \n",
      "top     S04_D02_E11          E37  S04, D02  요즘 너무 힘들어.  조금 더 자세히 말씀해주시겠어요?   \n",
      "freq            246         1229      8953           5                  55   \n",
      "\n",
      "                  HS02                         SS02   HS03   SS03  \n",
      "count            51628                        51628  51628  51628  \n",
      "unique           50831                        47875  42295  41452  \n",
      "top     대인관계가 원만하지 않아.  이 상황에서 할 수 있는 게 어떤 것이 있을까요?                \n",
      "freq                 4                          155   8935   8935  \n"
     ]
    }
   ],
   "source": [
    "# 기본 통계 정보 확인\n",
    "print(df.describe(include='all'))"
   ]
  },
  {
   "cell_type": "code",
   "execution_count": 4,
   "metadata": {},
   "outputs": [
    {
     "name": "stdout",
     "output_type": "stream",
     "text": [
      "<class 'pandas.core.frame.DataFrame'>\n",
      "RangeIndex: 51628 entries, 0 to 51627\n",
      "Data columns (total 14 columns):\n",
      " #   Column        Non-Null Count  Dtype \n",
      "---  ------        --------------  ----- \n",
      " 0   profile_id    51628 non-null  object\n",
      " 1   talk_id       51628 non-null  object\n",
      " 2   persona_id    51628 non-null  object\n",
      " 3   human         51628 non-null  object\n",
      " 4   computer      51628 non-null  object\n",
      " 5   emotion_id    51628 non-null  object\n",
      " 6   emotion_type  51628 non-null  object\n",
      " 7   situation     51628 non-null  object\n",
      " 8   HS01          51628 non-null  object\n",
      " 9   SS01          51628 non-null  object\n",
      " 10  HS02          51628 non-null  object\n",
      " 11  SS02          51628 non-null  object\n",
      " 12  HS03          51628 non-null  object\n",
      " 13  SS03          51628 non-null  object\n",
      "dtypes: object(14)\n",
      "memory usage: 5.5+ MB\n",
      "None\n"
     ]
    }
   ],
   "source": [
    "# 데이터 타입 확인\n",
    "print(df.info())"
   ]
  },
  {
   "cell_type": "code",
   "execution_count": 5,
   "metadata": {},
   "outputs": [
    {
     "name": "stdout",
     "output_type": "stream",
     "text": [
      "profile_id      0\n",
      "talk_id         0\n",
      "persona_id      0\n",
      "human           0\n",
      "computer        0\n",
      "emotion_id      0\n",
      "emotion_type    0\n",
      "situation       0\n",
      "HS01            0\n",
      "SS01            0\n",
      "HS02            0\n",
      "SS02            0\n",
      "HS03            0\n",
      "SS03            0\n",
      "dtype: int64\n"
     ]
    }
   ],
   "source": [
    "# 결측치 확인\n",
    "print(df.isnull().sum())"
   ]
  },
  {
   "cell_type": "code",
   "execution_count": 6,
   "metadata": {},
   "outputs": [
    {
     "name": "stdout",
     "output_type": "stream",
     "text": [
      "        HS01_length   SS01_length   HS02_length   SS02_length   HS03_length  \\\n",
      "count  51628.000000  51628.000000  51628.000000  51628.000000  51628.000000   \n",
      "mean      35.200783     27.519931     36.856260     31.291780     27.705547   \n",
      "std       11.867959      9.564532     12.160479     11.051095     16.650248   \n",
      "min        5.000000      7.000000      6.000000      7.000000      0.000000   \n",
      "25%       27.000000     21.000000     28.000000     24.000000     19.000000   \n",
      "50%       35.000000     26.000000     36.000000     29.000000     29.000000   \n",
      "75%       44.000000     33.000000     44.000000     38.000000     39.000000   \n",
      "max      156.000000     95.000000    137.000000    151.000000    126.000000   \n",
      "\n",
      "        SS03_length  \n",
      "count  51628.000000  \n",
      "mean      22.883842  \n",
      "std       13.496884  \n",
      "min        0.000000  \n",
      "25%       18.000000  \n",
      "50%       25.000000  \n",
      "75%       31.000000  \n",
      "max      887.000000  \n"
     ]
    }
   ],
   "source": [
    "# 텍스트 길이 분석\n",
    "df['HS01_length'] = df['HS01'].apply(len)\n",
    "df['SS01_length'] = df['SS01'].apply(len)\n",
    "df['HS02_length'] = df['HS02'].apply(len)\n",
    "df['SS02_length'] = df['SS02'].apply(len)\n",
    "df['HS03_length'] = df['HS03'].apply(len)\n",
    "df['SS03_length'] = df['SS03'].apply(len)\n",
    "\n",
    "print(df[['HS01_length', 'SS01_length', 'HS02_length', 'SS02_length', 'HS03_length', 'SS03_length']].describe())"
   ]
  },
  {
   "cell_type": "code",
   "execution_count": 7,
   "metadata": {},
   "outputs": [
    {
     "name": "stdout",
     "output_type": "stream",
     "text": [
      "Unique values in HS01:\n",
      "HS01\n",
      "요즘 너무 힘들어.                                           5\n",
      "나 지금 너무 비관적이야.                                       4\n",
      "너무 외롭다.                                              3\n",
      "나 요즘 너무 힘들어.                                         2\n",
      "너무 힘들고 무서워.                                          2\n",
      "                                                    ..\n",
      "운동 삼아 게이트볼을 시작했는데 비싼 장비로 열을 올리는 애들이 있더라. 답답해.        1\n",
      "친구 자식은 벌써 출세했다기에 당황스러워서 아들에게 전화로 잔소리 좀 했어.           1\n",
      "내 친구가 자원 봉사를 하도 다니길래 착한 척하지 말라고 했어. 걔는 정말 별로야.       1\n",
      "너무 지루해. 매일 매일이 똑같은 요양원이 너무 싫어.                       1\n",
      "남편과 결혼한 지 사십 년이야. 이제 사람 만나는 것도 버겁고 알던 사람도 점점 사라져.    1\n",
      "Name: count, Length: 51600, dtype: int64\n",
      "\n",
      "Unique values in SS01:\n"
     ]
    },
    {
     "name": "stdout",
     "output_type": "stream",
     "text": [
      "SS01\n",
      "조금 더 자세히 말씀해주시겠어요?                 55\n",
      "조금 더 자세히 말씀해 주시겠어요?                35\n",
      "좀 더 자세히 말씀해주시겠어요?                  35\n",
      "무슨 일이 있으셨나요?                       32\n",
      "조금 더 자세하게 말씀해주시겠어요?                24\n",
      "                                   ..\n",
      "현실적으로 도움이 되지 못해 속상하시겠어요.            1\n",
      "자식에게 재산을 물려주지 못해 마음이 안 좋겠어요.        1\n",
      "집에 도둑이 들다니 놀라셨겠어요.                  1\n",
      "형편이 좋지 않아 걱정이시겠어요.                  1\n",
      "대인관계에 대한 어려움 때문에 걱정되시고 속상하시겠어요.     1\n",
      "Name: count, Length: 50352, dtype: int64\n",
      "\n",
      "Unique values in HS02:\n",
      "HS02\n",
      "대인관계가 원만하지 않아.                            4\n",
      "갑자기 큰돈이 필요하게 되었어.                         3\n",
      "법적 대응을 할까 고민 중이야. 어디서 정보를 얻어야 할지 모르겠어.    3\n",
      "내 건강도 좋은 편은 아닌데 금방 세상을 떠날까 걱정이야.          3\n",
      "가게에 돈도 많이 들었는데 은근 착잡한 기분도 많이 들어.          3\n",
      "                                         ..\n",
      "사실 내가 병원비 얘기를 꺼냈어.                        1\n",
      "난 그 돈이 꼭 필요해.                             1\n",
      "그래서 간호사들이 보험에 대해 알려줬는데 난 아는 게 없어.         1\n",
      "당뇨병에 합병증까지 해서 치료비가 걱정이야.                  1\n",
      "사람들을 만나는 것이 어려워. 자꾸 사람들을 의심하게만 되고 말이야.    1\n",
      "Name: count, Length: 50831, dtype: int64\n",
      "\n",
      "Unique values in SS02:\n",
      "SS02\n",
      "이 상황에서 할 수 있는 게 어떤 것이 있을까요?                                  155\n",
      "지금의 기분에서 벗어나기 위해 무언가 할 수 있는 것이 있을까요?                          94\n",
      "이 상황을 변화시키기 위해 무엇을 할 수 있을까요?                                  71\n",
      "이 상황을 변화시키기 위해 시도해 볼 수 있는 일들이 어떤 것들이 있을까요?                    63\n",
      "지금의 기분에서 조금이라도 벗어나기 위해 가장 자신 있게 해 볼 수 있는 일은 무엇이 있을까요?         50\n",
      "                                                            ... \n",
      "은퇴 후 가족관계에 대해서 눈치를 보시는군요. 이 상황에서 할 수 있는 게 어떤 것이 있을까요?          1\n",
      "은퇴 후 노후준비가 미흡하다고 생각하시군요. 이 상황에서 할 수 있는 게 어떤 것이 있을까요?           1\n",
      "은퇴 후 일상 준비에 대해서 늦었다고 생각하시는군요. 이 상황에서 할 수 있는 게 어떤 것이 있을까요?      1\n",
      "하고 싶은 일과 가족간에 갈등이 있으시군요. 이 상황에서 할 수 있는 게 어떤 것이 있을까요?           1\n",
      "어떻게 하면 지금의 상황에 변화를 만들어낼 수 있을까요?                                1\n",
      "Name: count, Length: 47875, dtype: int64\n",
      "\n",
      "Unique values in HS03:\n",
      "HS03\n",
      "                                                      8935\n",
      "눈물만 흘렸어. 내가 할 수 있는 건 아무것도 없어.                            8\n",
      "모르겠어. 내가 할 수 있는 건 아무것도 없어.                               5\n",
      "나가서 친구들과 대화를 하고 와야겠어.                                    3\n",
      "회사 사수의 잘못된 행동에 대한 증거를 모아서 부장님께 말씀드릴 거야.                  3\n",
      "                                                      ... \n",
      "앞으로는 더 신중하게 선택하는 습관을 가져야겠어.                              1\n",
      "남편이랑 술 한잔 하며 대화하고 아쉬움을 풀어야지.                             1\n",
      "앞으로는 무리한 사채를 쓰지 않아야지. 반성하고 또 반성 할 거야.                    1\n",
      "부동산 업체 사람과 대화를 나눠서 해결해 볼 수 있는 지 알아봤었지. 이번에도 그래야겠어.       1\n",
      "사람들을 볼 때 의심하고 불신하는 마음을 억눌러야겠어. 사람들을 색안경을 끼고 보지 않게.       1\n",
      "Name: count, Length: 42295, dtype: int64\n",
      "\n",
      "Unique values in SS03:\n",
      "SS03\n",
      "                                       8935\n",
      "지금의 감정을 나눌 수 있는 사람이 주위에 있었으면 좋겠어요.       40\n",
      "주위에서 지금의 감정을 나눌 수 있는 사람이 있었으면 좋겠어요.      34\n",
      "굳 아이디어네요.                                30\n",
      "주위에 지금의 감정을 나눌 수 있는 사람이 있었으면 좋겠어요.       27\n",
      "                                       ... \n",
      "그냥 현실을 받아들이실 생각이시군요.                      1\n",
      "앞으로 자기 관리에 더 힘쓸 생각이시군요.                   1\n",
      "승차 거부 신고를 앞으로 하실 생각이시군요.                  1\n",
      "성의를 받아들여 맛보실 생각이시군요.                      1\n",
      "원하시는 대로 가지고 계시던 걱정이 잘 해결되셨으면 좋겠어요.        1\n",
      "Name: count, Length: 41452, dtype: int64\n",
      "\n"
     ]
    }
   ],
   "source": [
    "# 텍스트 데이터의 유니크 값 확인\n",
    "for column in ['HS01', 'SS01', 'HS02', 'SS02', 'HS03', 'SS03']:\n",
    "    print(f'Unique values in {column}:')\n",
    "    print(df[column].value_counts())\n",
    "    print()"
   ]
  },
  {
   "cell_type": "code",
   "execution_count": 8,
   "metadata": {},
   "outputs": [
    {
     "name": "stdout",
     "output_type": "stream",
     "text": [
      "situation\n",
      "D02    46310\n",
      "S04    10926\n",
      "D01     5318\n",
      "S06     5223\n",
      "S13     4962\n",
      "S11     4222\n",
      "S01     4207\n",
      "S05     4085\n",
      "S07     3402\n",
      "S02     3283\n",
      "S03     3091\n",
      "S09     3022\n",
      "S08     2738\n",
      "S10     2467\n",
      "Name: count, dtype: int64\n"
     ]
    }
   ],
   "source": [
    "# 상황(situation) 데이터 분석\n",
    "situation_data = df['situation'].str.split(', ').explode()\n",
    "situation_counts = situation_data.value_counts()\n",
    "print(situation_counts)"
   ]
  },
  {
   "cell_type": "code",
   "execution_count": 9,
   "metadata": {},
   "outputs": [
    {
     "name": "stdout",
     "output_type": "stream",
     "text": [
      "emotion_type\n",
      "E37    1229\n",
      "E13    1054\n",
      "E24    1002\n",
      "E27     993\n",
      "E31     991\n",
      "E47     984\n",
      "E18     975\n",
      "E32     971\n",
      "E19     969\n",
      "E20     958\n",
      "E10     958\n",
      "E48     953\n",
      "E22     950\n",
      "E45     949\n",
      "E40     937\n",
      "E11     926\n",
      "E58     918\n",
      "E42     911\n",
      "E44     910\n",
      "E23     906\n",
      "E34     901\n",
      "E43     901\n",
      "E51     900\n",
      "E39     899\n",
      "E56     897\n",
      "E41     896\n",
      "E28     896\n",
      "E30     893\n",
      "E29     884\n",
      "E55     883\n",
      "E17     882\n",
      "E12     875\n",
      "E16     873\n",
      "E52     872\n",
      "E21     870\n",
      "E59     870\n",
      "E38     869\n",
      "E53     865\n",
      "E33     864\n",
      "E49     861\n",
      "E36     860\n",
      "E50     859\n",
      "E54     859\n",
      "E15     845\n",
      "E35     842\n",
      "E46     840\n",
      "E25     838\n",
      "E57     833\n",
      "E26     828\n",
      "E14     803\n",
      "E60     660\n",
      "E64     655\n",
      "E67     639\n",
      "E68     634\n",
      "E61     631\n",
      "E62     609\n",
      "E63     597\n",
      "E69     570\n",
      "E66     568\n",
      "E65     563\n",
      "Name: count, dtype: int64\n"
     ]
    }
   ],
   "source": [
    "# 감정(emotion) 데이터 분석\n",
    "emotion_counts = df['emotion_type'].value_counts()\n",
    "print(emotion_counts)"
   ]
  },
  {
   "cell_type": "code",
   "execution_count": 10,
   "metadata": {},
   "outputs": [
    {
     "data": {
      "image/png": "[encoded data removed]",
      "text/plain": [
       "<Figure size 1000x600 with 1 Axes>"
      ]
     },
     "metadata": {},
     "output_type": "display_data"
    },
    {
     "data": {
      "image/png": "[encoded data removed]",
      "text/plain": [
       "<Figure size 1000x600 with 1 Axes>"
      ]
     },
     "metadata": {},
     "output_type": "display_data"
    },
    {
     "data": {
      "text/plain": [
       "<Figure size 1000x600 with 0 Axes>"
      ]
     },
     "metadata": {},
     "output_type": "display_data"
    },
    {
     "data": {
      "image/png": "[encoded data removed]",
      "text/plain": [
       "<Figure size 640x480 with 1 Axes>"
      ]
     },
     "metadata": {},
     "output_type": "display_data"
    }
   ],
   "source": [
    "# 결과를 시각적으로 표현\n",
    "import matplotlib.pyplot as plt\n",
    "\n",
    "# 상황(situation) 데이터 시각화\n",
    "plt.figure(figsize=(10, 6))\n",
    "situation_counts.plot(kind='bar')\n",
    "plt.title('Distribution of Situations')\n",
    "plt.xlabel('Situation')\n",
    "plt.ylabel('Count')\n",
    "plt.show()\n",
    "\n",
    "# 감정(emotion) 데이터 시각화\n",
    "plt.figure(figsize=(10, 6))\n",
    "emotion_counts.plot(kind='bar')\n",
    "plt.title('Distribution of Emotions')\n",
    "plt.xlabel('Emotion Type')\n",
    "plt.ylabel('Count')\n",
    "plt.show()\n",
    "\n",
    "# 텍스트 길이 시각화\n",
    "plt.figure(figsize=(10, 6))\n",
    "df[['HS01_length', 'SS01_length', 'HS02_length', 'SS02_length', 'HS03_length', 'SS03_length']].plot(kind='box')\n",
    "plt.title('Distribution of Text Lengths')\n",
    "plt.ylabel('Length')\n",
    "plt.show()"
   ]
  },
  {
   "cell_type": "markdown",
   "metadata": {},
   "source": [
    "# 발화랑 emtion id만 전처리"
   ]
  },
  {
   "cell_type": "code",
   "execution_count": 11,
   "metadata": {},
   "outputs": [
    {
     "data": {
      "text/html": [
       "<div>\n",
       "<style scoped>\n",
       "    .dataframe tbody tr th:only-of-type {\n",
       "        vertical-align: middle;\n",
       "    }\n",
       "\n",
       "    .dataframe tbody tr th {\n",
       "        vertical-align: top;\n",
       "    }\n",
       "\n",
       "    .dataframe thead th {\n",
       "        text-align: right;\n",
       "    }\n",
       "</style>\n",
       "<table border=\"1\" class=\"dataframe\">\n",
       "  <thead>\n",
       "    <tr style=\"text-align: right;\">\n",
       "      <th></th>\n",
       "      <th>emotion_type</th>\n",
       "      <th>HS01</th>\n",
       "      <th>HS02</th>\n",
       "      <th>HS03</th>\n",
       "    </tr>\n",
       "  </thead>\n",
       "  <tbody>\n",
       "    <tr>\n",
       "      <th>0</th>\n",
       "      <td>E18</td>\n",
       "      <td>일은 왜 해도 해도 끝이 없을까? 화가 난다.</td>\n",
       "      <td>그냥 내가 해결하는 게 나아. 남들한테 부담 주고 싶지도 않고.</td>\n",
       "      <td></td>\n",
       "    </tr>\n",
       "    <tr>\n",
       "      <th>1</th>\n",
       "      <td>E18</td>\n",
       "      <td>이번 달에 또 급여가 깎였어! 물가는 오르는데 월급만 자꾸 깎이니까 너무 화가 나.</td>\n",
       "      <td>최대한 지출을 억제해야겠어. 월급이 줄어들었으니 고정지출을 줄일 수밖에 없을 것 같아.</td>\n",
       "      <td></td>\n",
       "    </tr>\n",
       "    <tr>\n",
       "      <th>2</th>\n",
       "      <td>E18</td>\n",
       "      <td>회사에 신입이 들어왔는데 말투가 거슬려. 그런 애를 매일 봐야 한다고 생각하니까 스...</td>\n",
       "      <td>잘 안 맞는 사람이랑 억지로 잘 지내는 것보단 조금은 거리를 두고 예의를 갖춰서 대...</td>\n",
       "      <td></td>\n",
       "    </tr>\n",
       "    <tr>\n",
       "      <th>3</th>\n",
       "      <td>E18</td>\n",
       "      <td>직장에서 막내라는 이유로 나에게만 온갖 심부름을 시켜. 일도 많은 데 정말 분하고 ...</td>\n",
       "      <td>직장 사람들과 솔직하게 이야기해보고 싶어. 일하는 데에 방해된다고.</td>\n",
       "      <td></td>\n",
       "    </tr>\n",
       "    <tr>\n",
       "      <th>4</th>\n",
       "      <td>E18</td>\n",
       "      <td>얼마 전 입사한 신입사원이 나를 무시하는 것 같아서 너무 화가 나.</td>\n",
       "      <td>상사인 나에게 먼저 인사하지 않아서 매일 내가 먼저 인사한다고!</td>\n",
       "      <td></td>\n",
       "    </tr>\n",
       "  </tbody>\n",
       "</table>\n",
       "</div>"
      ],
      "text/plain": [
       "  emotion_type                                               HS01  \\\n",
       "0          E18                          일은 왜 해도 해도 끝이 없을까? 화가 난다.   \n",
       "1          E18     이번 달에 또 급여가 깎였어! 물가는 오르는데 월급만 자꾸 깎이니까 너무 화가 나.   \n",
       "2          E18  회사에 신입이 들어왔는데 말투가 거슬려. 그런 애를 매일 봐야 한다고 생각하니까 스...   \n",
       "3          E18  직장에서 막내라는 이유로 나에게만 온갖 심부름을 시켜. 일도 많은 데 정말 분하고 ...   \n",
       "4          E18              얼마 전 입사한 신입사원이 나를 무시하는 것 같아서 너무 화가 나.   \n",
       "\n",
       "                                                HS02 HS03  \n",
       "0                그냥 내가 해결하는 게 나아. 남들한테 부담 주고 싶지도 않고.       \n",
       "1   최대한 지출을 억제해야겠어. 월급이 줄어들었으니 고정지출을 줄일 수밖에 없을 것 같아.       \n",
       "2  잘 안 맞는 사람이랑 억지로 잘 지내는 것보단 조금은 거리를 두고 예의를 갖춰서 대...       \n",
       "3              직장 사람들과 솔직하게 이야기해보고 싶어. 일하는 데에 방해된다고.       \n",
       "4                상사인 나에게 먼저 인사하지 않아서 매일 내가 먼저 인사한다고!       "
      ]
     },
     "execution_count": 11,
     "metadata": {},
     "output_type": "execute_result"
    }
   ],
   "source": [
    "import pandas as pd\n",
    "import json\n",
    "\n",
    "# Load the JSON file\n",
    "file_path = 'conv_senti.json'\n",
    "with open(file_path, 'r', encoding='utf-8') as file:\n",
    "    data = json.load(file)\n",
    "\n",
    "# Extract relevant information\n",
    "rows = []\n",
    "for entry in data:\n",
    "    profile = entry['profile']\n",
    "    talk_content = entry['talk']['content']\n",
    "    emotion = profile['emotion']\n",
    "    \n",
    "    row = {\n",
    "        'emotion_type': emotion['type'],\n",
    "        'HS01': talk_content.get('HS01', ''),\n",
    "        'HS02': talk_content.get('HS02', ''),\n",
    "        'HS03': talk_content.get('HS03', '')\n",
    "    }\n",
    "    rows.append(row)\n",
    "\n",
    "# Create DataFrame\n",
    "df = pd.DataFrame(rows)\n",
    "df.head()\n"
   ]
  },
  {
   "cell_type": "markdown",
   "metadata": {},
   "source": [
    "### df를 csv로 저장"
   ]
  },
  {
   "cell_type": "code",
   "execution_count": 12,
   "metadata": {},
   "outputs": [],
   "source": [
    "csv_file_path = \"conv_senti_emotion_hs.csv\"\n",
    "df.to_csv(csv_file_path, index=False)"
   ]
  },
  {
   "cell_type": "markdown",
   "metadata": {},
   "source": [
    "### id2label 가이드 보고 dictionary화"
   ]
  },
  {
   "cell_type": "code",
   "execution_count": 13,
   "metadata": {},
   "outputs": [],
   "source": [
    "id2label_cleaned = {\n",
    "    10: \"분노\",\n",
    "    11: \"툴툴대는\",\n",
    "    12: \"좌절한\",\n",
    "    13: \"짜증내는\",\n",
    "    14: \"방어적인\",\n",
    "    15: \"악의적인\",\n",
    "    16: \"안달하는\",\n",
    "    17: \"구역질 나는\",\n",
    "    18: \"노여워하는\",\n",
    "    19: \"성가신\",\n",
    "    20: \"슬픔\",\n",
    "    21: \"실망한\",\n",
    "    22: \"비통한\",\n",
    "    23: \"후회되는\",\n",
    "    24: \"우울한\",\n",
    "    25: \"마비된\",\n",
    "    26: \"염세적인\",\n",
    "    27: \"눈물이 나는\",\n",
    "    28: \"낙담한\",\n",
    "    29: \"환멸을 느끼는\",\n",
    "    30: \"불안\",\n",
    "    31: \"두려운\",\n",
    "    32: \"스트레스 받는\",\n",
    "    33: \"취약한\",\n",
    "    34: \"혼란스러운\",\n",
    "    35: \"당혹스러운\",\n",
    "    36: \"회의적인\",\n",
    "    37: \"걱정스러운\",\n",
    "    38: \"조심스러운\",\n",
    "    39: \"초조한\",\n",
    "    40: \"상처\",\n",
    "    41: \"질투하는\",\n",
    "    42: \"배신당한\",\n",
    "    43: \"고립된\",\n",
    "    44: \"충격 받은\",\n",
    "    45: \"가난한, 불우한\",\n",
    "    46: \"희생된\",\n",
    "    47: \"억울한\",\n",
    "    48: \"괴로워하는\",\n",
    "    49: \"버려진\",\n",
    "    50: \"당황\",\n",
    "    51: \"고립된(당황한)\",\n",
    "    52: \"남의 시선을 의식하는\",\n",
    "    53: \"외로운\",\n",
    "    54: \"열등감\",\n",
    "    55: \"죄책감\",\n",
    "    56: \"부끄러운\",\n",
    "    57: \"혐오스러운\",\n",
    "    58: \"한심한\",\n",
    "    59: \"혼란스러운(당황한)\",\n",
    "    60: \"기쁨\",\n",
    "    61: \"감사하는\",\n",
    "    62: \"신뢰하는\",\n",
    "    63: \"편안한\",\n",
    "    64: \"만족스러운\",\n",
    "    65: \"흥분\",\n",
    "    66: \"느긋\",\n",
    "    67: \"안도\",\n",
    "    68: \"신이 난\",\n",
    "    69: \"자신하는\"\n",
    "}"
   ]
  },
  {
   "cell_type": "markdown",
   "metadata": {},
   "source": [
    "# Emotion count EDA"
   ]
  },
  {
   "cell_type": "code",
   "execution_count": 14,
   "metadata": {},
   "outputs": [
    {
     "data": {
      "image/png": "[encoded data removed]",
      "text/plain": [
       "<Figure size 1800x800 with 1 Axes>"
      ]
     },
     "metadata": {},
     "output_type": "display_data"
    }
   ],
   "source": [
    "import pandas as pd\n",
    "import seaborn as sns\n",
    "import matplotlib.pyplot as plt\n",
    "\n",
    "# 파일 경로 설정\n",
    "file_path = 'conv_senti_emotion_hs.csv'\n",
    "\n",
    "# 파일을 읽어 DataFrame으로 변환\n",
    "data = pd.read_csv(file_path)\n",
    "\n",
    "# 각 감정 레이블의 빈도 계산\n",
    "emotion_counts = data['emotion_type'].value_counts()\n",
    "\n",
    "# Seaborn 스타일 설정\n",
    "sns.set(style=\"whitegrid\")\n",
    "\n",
    "# 감정 레이블별 데이터 빈도를 바 차트로 표시\n",
    "plt.figure(figsize=(18, 8))\n",
    "ax = sns.countplot(x='emotion_type', data=data, order=emotion_counts.index)\n",
    "ax.set_title('Count of Each Emotion Label')\n",
    "ax.set_xlabel('Emotion Label')\n",
    "ax.set_ylabel('Count')\n",
    "plt.xticks(rotation=90)  # X축 레이블 회전\n",
    "plt.tight_layout()  # 레이아웃 조정\n",
    "\n",
    "plt.show()\n"
   ]
  },
  {
   "cell_type": "code",
   "execution_count": 2,
   "metadata": {},
   "outputs": [
    {
     "data": {
      "image/png": "[encoded data removed]",
      "text/plain": [
       "<Figure size 1000x600 with 1 Axes>"
      ]
     },
     "metadata": {},
     "output_type": "display_data"
    }
   ],
   "source": [
    "import pandas as pd\n",
    "import seaborn as sns\n",
    "import matplotlib.pyplot as plt\n",
    "\n",
    "# 파일 경로 설정\n",
    "file_path = 'conv_senti_emotion_hs.csv'\n",
    "\n",
    "# 파일을 읽어 DataFrame으로 변환\n",
    "data = pd.read_csv(file_path)\n",
    "\n",
    "# 그룹 분류\n",
    "data['group'] = data['emotion_type'].apply(lambda x: 'group2' if x.startswith('E6') else 'group1')\n",
    "\n",
    "# 각 그룹별 빈도 계산\n",
    "group_counts = data['group'].value_counts()\n",
    "\n",
    "# Seaborn 스타일 설정\n",
    "sns.set(style=\"whitegrid\")\n",
    "\n",
    "# 그룹별 데이터 빈도를 바 차트로 표시\n",
    "plt.figure(figsize=(10, 6))\n",
    "ax = sns.barplot(x=group_counts.index, y=group_counts.values)\n",
    "ax.set_title('Count of Each Group')\n",
    "ax.set_xlabel('Group')\n",
    "ax.set_ylabel('Count')\n",
    "plt.xticks(rotation=45)  # X축 레이블 회전\n",
    "plt.tight_layout()  # 레이아웃 조정\n",
    "\n",
    "plt.show()\n"
   ]
  },
  {
   "cell_type": "markdown",
   "metadata": {},
   "source": [
    "# HS01, HS02, HS03 HS열로해서 데이터 나누기"
   ]
  },
  {
   "cell_type": "code",
   "execution_count": 1,
   "metadata": {},
   "outputs": [
    {
     "name": "stdout",
     "output_type": "stream",
     "text": [
      "  emotion_type                                                 hs\n",
      "0          E18                          일은 왜 해도 해도 끝이 없을까? 화가 난다.\n",
      "1          E18     이번 달에 또 급여가 깎였어! 물가는 오르는데 월급만 자꾸 깎이니까 너무 화가 나.\n",
      "2          E18  회사에 신입이 들어왔는데 말투가 거슬려. 그런 애를 매일 봐야 한다고 생각하니까 스...\n",
      "3          E18  직장에서 막내라는 이유로 나에게만 온갖 심부름을 시켜. 일도 많은 데 정말 분하고 ...\n",
      "4          E18              얼마 전 입사한 신입사원이 나를 무시하는 것 같아서 너무 화가 나.\n"
     ]
    }
   ],
   "source": [
    "import pandas as pd\n",
    "\n",
    "# 파일 경로 설정\n",
    "file_path = 'conv_senti_emotion_hs.csv'\n",
    "\n",
    "# 파일을 읽어 DataFrame으로 변환\n",
    "data = pd.read_csv(file_path)\n",
    "\n",
    "# 'HS01', 'HS02', 'HS03' 열을 개별 행으로 전환하고, 'emotion_type' 열은 유지\n",
    "long_format = pd.melt(data, id_vars=['emotion_type'], value_vars=['HS01', 'HS02', 'HS03'], var_name='HS_label', value_name='hs')\n",
    "\n",
    "# 필요 없는 'HS_label' 열을 삭제하고, 결과 DataFrame 재구성\n",
    "long_format = long_format.drop('HS_label', axis=1)\n",
    "\n",
    "# 결과 확인\n",
    "print(long_format.head())\n"
   ]
  },
  {
   "cell_type": "markdown",
   "metadata": {},
   "source": [
    "# 결측치 확인"
   ]
  },
  {
   "cell_type": "code",
   "execution_count": 2,
   "metadata": {},
   "outputs": [
    {
     "name": "stdout",
     "output_type": "stream",
     "text": [
      "emotion_type\n",
      "E37    3687\n",
      "E13    3162\n",
      "E24    3006\n",
      "E27    2979\n",
      "E31    2973\n",
      "E47    2952\n",
      "E18    2925\n",
      "E32    2913\n",
      "E19    2907\n",
      "E20    2874\n",
      "E10    2874\n",
      "E48    2859\n",
      "E22    2850\n",
      "E45    2847\n",
      "E40    2811\n",
      "E11    2778\n",
      "E58    2754\n",
      "E42    2733\n",
      "E44    2730\n",
      "E23    2718\n",
      "E34    2703\n",
      "E43    2703\n",
      "E51    2700\n",
      "E39    2697\n",
      "E56    2691\n",
      "E41    2688\n",
      "E28    2688\n",
      "E30    2679\n",
      "E29    2652\n",
      "E55    2649\n",
      "E17    2646\n",
      "E12    2625\n",
      "E16    2619\n",
      "E52    2616\n",
      "E21    2610\n",
      "E59    2610\n",
      "E38    2607\n",
      "E53    2595\n",
      "E33    2592\n",
      "E49    2583\n",
      "E36    2580\n",
      "E50    2577\n",
      "E54    2577\n",
      "E15    2535\n",
      "E35    2526\n",
      "E46    2520\n",
      "E25    2514\n",
      "E57    2499\n",
      "E26    2484\n",
      "E14    2409\n",
      "E60    1980\n",
      "E64    1965\n",
      "E67    1917\n",
      "E68    1902\n",
      "E61    1893\n",
      "E62    1827\n",
      "E63    1791\n",
      "E69    1710\n",
      "E66    1704\n",
      "E65    1689\n",
      "Name: count, dtype: int64 \n",
      " 8935\n"
     ]
    }
   ],
   "source": [
    "# Count the frequency of each emotion type to analyze the distribution\n",
    "emotion_type_distribution = long_format['emotion_type'].value_counts()\n",
    "\n",
    "# Checking for missing values in 'HS' column\n",
    "missing_hs = long_format['hs'].isnull().sum()\n",
    "\n",
    "print(emotion_type_distribution, \"\\n\", missing_hs)\n"
   ]
  },
  {
   "cell_type": "code",
   "execution_count": 3,
   "metadata": {},
   "outputs": [
    {
     "name": "stdout",
     "output_type": "stream",
     "text": [
      "0\n"
     ]
    }
   ],
   "source": [
    "long_format = long_format.dropna(subset=['hs'])\n",
    "\n",
    "# 결과 확인\n",
    "print(long_format[\"hs\"].isnull().sum())"
   ]
  },
  {
   "cell_type": "markdown",
   "metadata": {},
   "source": [
    "## E제거 -> 모델 학습시 id에 str 안됨"
   ]
  },
  {
   "cell_type": "code",
   "execution_count": 4,
   "metadata": {},
   "outputs": [
    {
     "data": {
      "text/html": [
       "<div>\n",
       "<style scoped>\n",
       "    .dataframe tbody tr th:only-of-type {\n",
       "        vertical-align: middle;\n",
       "    }\n",
       "\n",
       "    .dataframe tbody tr th {\n",
       "        vertical-align: top;\n",
       "    }\n",
       "\n",
       "    .dataframe thead th {\n",
       "        text-align: right;\n",
       "    }\n",
       "</style>\n",
       "<table border=\"1\" class=\"dataframe\">\n",
       "  <thead>\n",
       "    <tr style=\"text-align: right;\">\n",
       "      <th></th>\n",
       "      <th>hs</th>\n",
       "      <th>labels</th>\n",
       "    </tr>\n",
       "  </thead>\n",
       "  <tbody>\n",
       "    <tr>\n",
       "      <th>0</th>\n",
       "      <td>일은 왜 해도 해도 끝이 없을까? 화가 난다.</td>\n",
       "      <td>8</td>\n",
       "    </tr>\n",
       "    <tr>\n",
       "      <th>1</th>\n",
       "      <td>이번 달에 또 급여가 깎였어! 물가는 오르는데 월급만 자꾸 깎이니까 너무 화가 나.</td>\n",
       "      <td>8</td>\n",
       "    </tr>\n",
       "    <tr>\n",
       "      <th>2</th>\n",
       "      <td>회사에 신입이 들어왔는데 말투가 거슬려. 그런 애를 매일 봐야 한다고 생각하니까 스...</td>\n",
       "      <td>8</td>\n",
       "    </tr>\n",
       "    <tr>\n",
       "      <th>3</th>\n",
       "      <td>직장에서 막내라는 이유로 나에게만 온갖 심부름을 시켜. 일도 많은 데 정말 분하고 ...</td>\n",
       "      <td>8</td>\n",
       "    </tr>\n",
       "    <tr>\n",
       "      <th>4</th>\n",
       "      <td>얼마 전 입사한 신입사원이 나를 무시하는 것 같아서 너무 화가 나.</td>\n",
       "      <td>8</td>\n",
       "    </tr>\n",
       "  </tbody>\n",
       "</table>\n",
       "</div>"
      ],
      "text/plain": [
       "                                                  hs  labels\n",
       "0                          일은 왜 해도 해도 끝이 없을까? 화가 난다.       8\n",
       "1     이번 달에 또 급여가 깎였어! 물가는 오르는데 월급만 자꾸 깎이니까 너무 화가 나.       8\n",
       "2  회사에 신입이 들어왔는데 말투가 거슬려. 그런 애를 매일 봐야 한다고 생각하니까 스...       8\n",
       "3  직장에서 막내라는 이유로 나에게만 온갖 심부름을 시켜. 일도 많은 데 정말 분하고 ...       8\n",
       "4              얼마 전 입사한 신입사원이 나를 무시하는 것 같아서 너무 화가 나.       8"
      ]
     },
     "execution_count": 4,
     "metadata": {},
     "output_type": "execute_result"
    }
   ],
   "source": [
    "# Remove 'E' and convert the emotion_type IDs to integers\n",
    "long_format['emotion_type'] = long_format['emotion_type'].apply(lambda x: int(x[1:]))\n",
    "# 'emotion_type'의 ID 값을 10씩 빼서 새로운 범위로 조정\n",
    "long_format['emotion_type'] = long_format['emotion_type'].apply(lambda x: x - 10)\n",
    "long_format['labels'] = long_format['emotion_type']\n",
    "long_format = long_format.drop(columns=['emotion_type'])\n",
    "long_format.head()\n"
   ]
  },
  {
   "cell_type": "code",
   "execution_count": 5,
   "metadata": {},
   "outputs": [],
   "source": [
    "csv_file_path = \"train_dataset.csv\"\n",
    "long_format.to_csv(csv_file_path, index=False)"
   ]
  },
  {
   "cell_type": "code",
   "execution_count": null,
   "metadata": {},
   "outputs": [],
   "source": []
  },
  {
   "cell_type": "code",
   "execution_count": null,
   "metadata": {},
   "outputs": [],
   "source": []
  },
  {
   "cell_type": "code",
   "execution_count": null,
   "metadata": {},
   "outputs": [],
   "source": []
  }
 ],
 "metadata": {
  "kernelspec": {
   "display_name": "NLP_HW2",
   "language": "python",
   "name": "nlp_hw2"
  },
  "language_info": {
   "codemirror_mode": {
    "name": "ipython",
    "version": 3
   },
   "file_extension": ".py",
   "mimetype": "text/x-python",
   "name": "python",
   "nbconvert_exporter": "python",
   "pygments_lexer": "ipython3",
   "version": "3.10.11"
  }
 },
 "nbformat": 4,
 "nbformat_minor": 2
}
